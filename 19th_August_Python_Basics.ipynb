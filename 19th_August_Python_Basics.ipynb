{
  "cells": [
    {
      "cell_type": "markdown",
      "metadata": {
        "id": "kS9fexRqEbo_"
      },
      "source": [
        "**TOPIC: Python Basics Variable**\n"
      ]
    },
    {
      "cell_type": "markdown",
      "metadata": {
        "id": "kwV6P2uLEj1E"
      },
      "source": [
        "1. Declare two variables, `x` and `y`, and assign them integer values. Swap the\n",
        "values of these variables without using any temporary variable."
      ]
    },
    {
      "cell_type": "code",
      "execution_count": 2,
      "metadata": {
        "id": "kI3SkYsFERJh"
      },
      "outputs": [],
      "source": [
        "x=6\n",
        "y=7"
      ]
    },
    {
      "cell_type": "code",
      "execution_count": 19,
      "metadata": {
        "id": "iCxYfhQxE4RO"
      },
      "outputs": [],
      "source": [
        "#swapping the two values without temporary\n",
        "x,y=x,y\n"
      ]
    },
    {
      "cell_type": "code",
      "execution_count": 9,
      "metadata": {
        "colab": {
          "base_uri": "https://localhost:8080/"
        },
        "id": "sd9N_GvME9ui",
        "outputId": "5880be0e-939a-45e5-f29c-dfee3ea77237"
      },
      "outputs": [
        {
          "data": {
            "text/plain": [
              "7"
            ]
          },
          "execution_count": 9,
          "metadata": {},
          "output_type": "execute_result"
        }
      ],
      "source": [
        "x"
      ]
    },
    {
      "cell_type": "code",
      "execution_count": 10,
      "metadata": {
        "colab": {
          "base_uri": "https://localhost:8080/"
        },
        "id": "_MlgCxODFT7I",
        "outputId": "7f44e40d-ec38-4839-8b07-d5c34ee4ca1a"
      },
      "outputs": [
        {
          "data": {
            "text/plain": [
              "6"
            ]
          },
          "execution_count": 10,
          "metadata": {},
          "output_type": "execute_result"
        }
      ],
      "source": [
        "y"
      ]
    },
    {
      "cell_type": "markdown",
      "metadata": {
        "id": "2FZiE_QFFYbX"
      },
      "source": [
        "2. Create a program that calculates the area of a rectangle. Take the length and\n",
        "width as inputs from the user and store them in variables. Calculate and\n",
        "display the area."
      ]
    },
    {
      "cell_type": "code",
      "execution_count": 11,
      "metadata": {
        "colab": {
          "base_uri": "https://localhost:8080/"
        },
        "id": "ApRFdPsiFbQP",
        "outputId": "2b785b58-735f-4465-f620-c8a7a4d8656b"
      },
      "outputs": [
        {
          "name": "stdout",
          "output_type": "stream",
          "text": [
            "12\n"
          ]
        }
      ],
      "source": [
        "length=int(input())"
      ]
    },
    {
      "cell_type": "code",
      "execution_count": 12,
      "metadata": {
        "colab": {
          "base_uri": "https://localhost:8080/"
        },
        "id": "yidUkgJgFykv",
        "outputId": "f2bd186c-be9a-462a-ee9e-088587158e06"
      },
      "outputs": [
        {
          "name": "stdout",
          "output_type": "stream",
          "text": [
            "14\n"
          ]
        }
      ],
      "source": [
        "width=int(input())"
      ]
    },
    {
      "cell_type": "code",
      "execution_count": 20,
      "metadata": {
        "id": "F6Oc-Ur_F9sI"
      },
      "outputs": [],
      "source": [
        "#formula for area of rectangle\n",
        "Area=length*width"
      ]
    },
    {
      "cell_type": "code",
      "execution_count": 14,
      "metadata": {
        "colab": {
          "base_uri": "https://localhost:8080/"
        },
        "id": "Dlyx3s8JGIVM",
        "outputId": "350ccbfe-b1e2-44a4-ecc3-d1b3b10dee6c"
      },
      "outputs": [
        {
          "data": {
            "text/plain": [
              "168"
            ]
          },
          "execution_count": 14,
          "metadata": {},
          "output_type": "execute_result"
        }
      ],
      "source": [
        "Area"
      ]
    },
    {
      "cell_type": "markdown",
      "metadata": {
        "id": "A44mgklpGMfC"
      },
      "source": [
        "Write a Python program that converts temperatures from Celsius to\n",
        "Fahrenheit. Take the temperature in Celsius as input, store it in a variable,\n",
        "convert it to Fahrenheit, and display the result."
      ]
    },
    {
      "cell_type": "code",
      "execution_count": 15,
      "metadata": {
        "colab": {
          "base_uri": "https://localhost:8080/"
        },
        "id": "4ch5AODBGOcC",
        "outputId": "4c2900d9-6f6b-4fa9-9141-dff899c17e6d"
      },
      "outputs": [
        {
          "name": "stdout",
          "output_type": "stream",
          "text": [
            "34.4\n"
          ]
        }
      ],
      "source": [
        "Celsius=float(input())"
      ]
    },
    {
      "cell_type": "code",
      "execution_count": 21,
      "metadata": {
        "id": "dBE93x-jG_Fj"
      },
      "outputs": [],
      "source": [
        "#formula to convert from celsius to fahrenheit\n",
        "Fahrenheit=(Celsius*1.8)+32"
      ]
    },
    {
      "cell_type": "code",
      "execution_count": 18,
      "metadata": {
        "colab": {
          "base_uri": "https://localhost:8080/"
        },
        "id": "lJeiG1jnHMUS",
        "outputId": "2b0385a8-6059-4ced-ec85-4033fc3d89ea"
      },
      "outputs": [
        {
          "data": {
            "text/plain": [
              "93.92"
            ]
          },
          "execution_count": 18,
          "metadata": {},
          "output_type": "execute_result"
        }
      ],
      "source": [
        "Fahrenheit"
      ]
    },
    {
      "cell_type": "markdown",
      "metadata": {
        "id": "YRpJ-LkGIoKf"
      },
      "source": [
        "**TOPIC: String Based Questions**"
      ]
    },
    {
      "cell_type": "markdown",
      "metadata": {
        "id": "3EbqyXTyJKux"
      },
      "source": [
        "1. Write a Python program that takes a string as input and prints the length of\n",
        "the string."
      ]
    },
    {
      "cell_type": "code",
      "execution_count": 1,
      "metadata": {
        "colab": {
          "base_uri": "https://localhost:8080/"
        },
        "id": "9rE9OpRhIqXk",
        "outputId": "76e04967-95db-4e56-8367-474ddcd4b278"
      },
      "outputs": [],
      "source": [
        "#Taking string as input\n",
        "st1=input()"
      ]
    },
    {
      "cell_type": "code",
      "execution_count": 2,
      "metadata": {
        "colab": {
          "base_uri": "https://localhost:8080/",
          "height": 35
        },
        "id": "sJjVy9UPJiNx",
        "outputId": "02035185-ed05-4810-d5d5-405abd72e0f1"
      },
      "outputs": [
        {
          "data": {
            "text/plain": [
              "'sahil'"
            ]
          },
          "execution_count": 2,
          "metadata": {},
          "output_type": "execute_result"
        }
      ],
      "source": [
        "st1"
      ]
    },
    {
      "cell_type": "code",
      "execution_count": 3,
      "metadata": {
        "colab": {
          "base_uri": "https://localhost:8080/"
        },
        "id": "FhGvkV4-Jl-f",
        "outputId": "903930e4-4753-4d8b-9258-c23752a2f8e5"
      },
      "outputs": [
        {
          "data": {
            "text/plain": [
              "5"
            ]
          },
          "execution_count": 3,
          "metadata": {},
          "output_type": "execute_result"
        }
      ],
      "source": [
        "#len() function is use to calculate the length of the string\n",
        "len(st1)"
      ]
    },
    {
      "cell_type": "markdown",
      "metadata": {
        "id": "z8kA8MAIKHv_"
      },
      "source": [
        "2. Create a program that takes a sentence from the user and counts the number\n",
        "of vowels (a, e, i, o, u) in the string."
      ]
    },
    {
      "cell_type": "code",
      "execution_count": 28,
      "metadata": {
        "colab": {
          "base_uri": "https://localhost:8080/"
        },
        "id": "qWdQZN2cKLFp",
        "outputId": "20523be8-4979-457b-ff28-7dc3fad7616b"
      },
      "outputs": [
        {
          "name": "stdout",
          "output_type": "stream",
          "text": [
            "full stack data science pro\n"
          ]
        }
      ],
      "source": [
        "Sentence=input()"
      ]
    },
    {
      "cell_type": "code",
      "execution_count": 29,
      "metadata": {
        "colab": {
          "base_uri": "https://localhost:8080/",
          "height": 35
        },
        "id": "aAyV5C2bKcBA",
        "outputId": "887391e9-2276-4614-8eff-16de6c27940c"
      },
      "outputs": [
        {
          "data": {
            "application/vnd.google.colaboratory.intrinsic+json": {
              "type": "string"
            },
            "text/plain": [
              "'full stack data science pro'"
            ]
          },
          "execution_count": 29,
          "metadata": {},
          "output_type": "execute_result"
        }
      ],
      "source": [
        "Sentence"
      ]
    },
    {
      "cell_type": "code",
      "execution_count": 31,
      "metadata": {
        "id": "7l5hlh7NKgJz"
      },
      "outputs": [],
      "source": [
        "vowels = \"aeiouAEIOU\""
      ]
    },
    {
      "cell_type": "code",
      "execution_count": 34,
      "metadata": {
        "id": "bEJQ4kNZLpvY"
      },
      "outputs": [],
      "source": [
        "count=len([char for char in Sentence if char in vowels])"
      ]
    },
    {
      "cell_type": "code",
      "execution_count": 35,
      "metadata": {
        "colab": {
          "base_uri": "https://localhost:8080/"
        },
        "id": "c3r4YEV0M5hr",
        "outputId": "e9ed0e67-39d9-4724-9946-cd630d474a21"
      },
      "outputs": [
        {
          "data": {
            "text/plain": [
              "8"
            ]
          },
          "execution_count": 35,
          "metadata": {},
          "output_type": "execute_result"
        }
      ],
      "source": [
        "count"
      ]
    },
    {
      "cell_type": "markdown",
      "metadata": {
        "id": "GfsvnqdmNRm1"
      },
      "source": [
        "3. Given a string, reverse the order of characters using string slicing and print\n",
        "the reversed string."
      ]
    },
    {
      "cell_type": "code",
      "execution_count": 4,
      "metadata": {
        "id": "5kDunEp4NSts"
      },
      "outputs": [],
      "source": [
        "st2=\"Sahil\""
      ]
    },
    {
      "cell_type": "code",
      "execution_count": 5,
      "metadata": {
        "colab": {
          "base_uri": "https://localhost:8080/",
          "height": 35
        },
        "id": "K2MoYrgPNb1n",
        "outputId": "40ec0e39-7244-4bce-cee8-3191dc42a842"
      },
      "outputs": [
        {
          "data": {
            "text/plain": [
              "'lihaS'"
            ]
          },
          "execution_count": 5,
          "metadata": {},
          "output_type": "execute_result"
        }
      ],
      "source": [
        "st2[7::-1]"
      ]
    },
    {
      "cell_type": "markdown",
      "metadata": {
        "id": "EhNWS7-INvN8"
      },
      "source": [
        "Write a program that takes a string as input and checks if it is a palindrome\n",
        "(reads the same forwards and backwards)."
      ]
    },
    {
      "cell_type": "code",
      "execution_count": 60,
      "metadata": {
        "colab": {
          "base_uri": "https://localhost:8080/"
        },
        "id": "u7E2phRoN0Qh",
        "outputId": "6e45fd59-e13b-4b38-cafd-0667ce5062dd"
      },
      "outputs": [
        {
          "name": "stdout",
          "output_type": "stream",
          "text": [
            "aba\n"
          ]
        }
      ],
      "source": [
        "st=input()"
      ]
    },
    {
      "cell_type": "code",
      "execution_count": 61,
      "metadata": {
        "colab": {
          "base_uri": "https://localhost:8080/"
        },
        "id": "d6_U0FMnPb2P",
        "outputId": "3457a425-9cf5-4032-b49f-73378943288a"
      },
      "outputs": [
        {
          "name": "stdout",
          "output_type": "stream",
          "text": [
            "it is a palindrome\n"
          ]
        }
      ],
      "source": [
        "if st==st[::-1]:\n",
        "  print(\"it is a palindrome\")\n",
        "else:\n",
        "  print(\"it is not a palindrome\")"
      ]
    },
    {
      "cell_type": "markdown",
      "metadata": {
        "id": "LO0N7W7hQbj0"
      },
      "source": [
        "5. Create a program that takes a string as input and removes all the spaces from\n",
        "it. Print the modified string without spaces."
      ]
    },
    {
      "cell_type": "code",
      "execution_count": 63,
      "metadata": {
        "colab": {
          "base_uri": "https://localhost:8080/"
        },
        "id": "v_tHgUrVQdou",
        "outputId": "1996fe62-0830-4809-bbff-0b10136b6f54"
      },
      "outputs": [
        {
          "name": "stdout",
          "output_type": "stream",
          "text": [
            "full stack data science pro\n"
          ]
        }
      ],
      "source": [
        "st4=input()"
      ]
    },
    {
      "cell_type": "code",
      "execution_count": 65,
      "metadata": {
        "colab": {
          "base_uri": "https://localhost:8080/",
          "height": 35
        },
        "id": "1Qe7OjUEQ3ic",
        "outputId": "55de7996-4113-4371-d4c3-c97fdc4e58cc"
      },
      "outputs": [
        {
          "data": {
            "application/vnd.google.colaboratory.intrinsic+json": {
              "type": "string"
            },
            "text/plain": [
              "'fullstackdatasciencepro'"
            ]
          },
          "execution_count": 65,
          "metadata": {},
          "output_type": "execute_result"
        }
      ],
      "source": [
        "#replacing the whitespaces\n",
        "st4.replace(\" \",\"\")"
      ]
    }
  ],
  "metadata": {
    "colab": {
      "provenance": []
    },
    "kernelspec": {
      "display_name": "Python 3",
      "name": "python3"
    },
    "language_info": {
      "codemirror_mode": {
        "name": "ipython",
        "version": 3
      },
      "file_extension": ".py",
      "mimetype": "text/x-python",
      "name": "python",
      "nbconvert_exporter": "python",
      "pygments_lexer": "ipython3",
      "version": "3.8.10"
    }
  },
  "nbformat": 4,
  "nbformat_minor": 0
}
